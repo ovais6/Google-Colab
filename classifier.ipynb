{
  "nbformat": 4,
  "nbformat_minor": 0,
  "metadata": {
    "colab": {
      "name": "classifier",
      "provenance": [],
      "collapsed_sections": [],
      "include_colab_link": true
    },
    "kernelspec": {
      "name": "python3",
      "display_name": "Python 3"
    },
    "accelerator": "GPU"
  },
  "cells": [
    {
      "cell_type": "markdown",
      "metadata": {
        "id": "view-in-github",
        "colab_type": "text"
      },
      "source": [
        "<a href=\"https://colab.research.google.com/github/ovais6/Google-Colab/blob/master/classifier.ipynb\" target=\"_parent\"><img src=\"https://colab.research.google.com/assets/colab-badge.svg\" alt=\"Open In Colab\"/></a>"
      ]
    },
    {
      "cell_type": "code",
      "metadata": {
        "id": "pXGTe_gee0KX",
        "colab_type": "code",
        "colab": {
          "base_uri": "https://localhost:8080/",
          "height": 102
        },
        "outputId": "5518038e-c340-40c2-9ad2-87cdb060728b"
      },
      "source": [
        "!git clone https://github.com/ovais6/machine-learning-101.git"
      ],
      "execution_count": 1,
      "outputs": [
        {
          "output_type": "stream",
          "text": [
            "Cloning into 'machine-learning-101'...\n",
            "remote: Enumerating objects: 1036, done.\u001b[K\n",
            "Receiving objects:   0% (1/1036)   \rReceiving objects:   1% (11/1036)   \rReceiving objects:   2% (21/1036)   \rReceiving objects:   3% (32/1036)   \rReceiving objects:   4% (42/1036)   \rReceiving objects:   5% (52/1036)   \rReceiving objects:   6% (63/1036)   \rReceiving objects:   7% (73/1036)   \rReceiving objects:   8% (83/1036)   \rReceiving objects:   9% (94/1036)   \rReceiving objects:  10% (104/1036)   \rReceiving objects:  11% (114/1036)   \rReceiving objects:  12% (125/1036)   \rReceiving objects:  13% (135/1036)   \rReceiving objects:  14% (146/1036)   \rReceiving objects:  15% (156/1036)   \rReceiving objects:  16% (166/1036)   \rReceiving objects:  17% (177/1036)   \rReceiving objects:  18% (187/1036)   \rReceiving objects:  19% (197/1036)   \rReceiving objects:  20% (208/1036)   \rReceiving objects:  21% (218/1036)   \rReceiving objects:  22% (228/1036)   \rReceiving objects:  23% (239/1036)   \rReceiving objects:  24% (249/1036)   \rReceiving objects:  25% (259/1036)   \rReceiving objects:  26% (270/1036)   \rReceiving objects:  27% (280/1036)   \rReceiving objects:  28% (291/1036)   \rReceiving objects:  29% (301/1036)   \rReceiving objects:  30% (311/1036)   \rReceiving objects:  31% (322/1036)   \rReceiving objects:  32% (332/1036)   \rReceiving objects:  33% (342/1036)   \rReceiving objects:  34% (353/1036)   \rReceiving objects:  35% (363/1036)   \rReceiving objects:  36% (373/1036)   \rReceiving objects:  37% (384/1036)   \rReceiving objects:  38% (394/1036)   \rReceiving objects:  39% (405/1036)   \rReceiving objects:  40% (415/1036)   \rReceiving objects:  41% (425/1036)   \rReceiving objects:  42% (436/1036)   \rReceiving objects:  43% (446/1036)   \rReceiving objects:  44% (456/1036)   \rReceiving objects:  45% (467/1036)   \rReceiving objects:  46% (477/1036)   \rReceiving objects:  47% (487/1036)   \rReceiving objects:  48% (498/1036)   \rReceiving objects:  49% (508/1036)   \rReceiving objects:  50% (518/1036)   \rReceiving objects:  51% (529/1036)   \rReceiving objects:  52% (539/1036)   \rReceiving objects:  53% (550/1036)   \rReceiving objects:  54% (560/1036)   \rReceiving objects:  55% (570/1036)   \rReceiving objects:  56% (581/1036)   \rReceiving objects:  57% (591/1036)   \rReceiving objects:  58% (601/1036)   \rReceiving objects:  59% (612/1036)   \rReceiving objects:  60% (622/1036)   \rReceiving objects:  61% (632/1036)   \rReceiving objects:  62% (643/1036)   \rReceiving objects:  63% (653/1036)   \rReceiving objects:  64% (664/1036)   \rReceiving objects:  65% (674/1036)   \rReceiving objects:  66% (684/1036)   \rReceiving objects:  67% (695/1036)   \rReceiving objects:  68% (705/1036)   \rReceiving objects:  69% (715/1036)   \rReceiving objects:  70% (726/1036)   \rReceiving objects:  71% (736/1036)   \rReceiving objects:  72% (746/1036)   \rReceiving objects:  73% (757/1036)   \rReceiving objects:  74% (767/1036)   \rReceiving objects:  75% (777/1036)   \rReceiving objects:  76% (788/1036)   \rReceiving objects:  77% (798/1036)   \rReceiving objects:  78% (809/1036)   \rReceiving objects:  79% (819/1036)   \rReceiving objects:  80% (829/1036)   \rReceiving objects:  81% (840/1036)   \rReceiving objects:  82% (850/1036)   \rReceiving objects:  83% (860/1036)   \rReceiving objects:  84% (871/1036)   \rReceiving objects:  85% (881/1036)   \rReceiving objects:  86% (891/1036)   \rReceiving objects:  87% (902/1036)   \rReceiving objects:  88% (912/1036)   \rReceiving objects:  89% (923/1036)   \rremote: Total 1036 (delta 0), reused 0 (delta 0), pack-reused 1036\n",
            "Receiving objects:  90% (933/1036)   \rReceiving objects:  91% (943/1036)   \rReceiving objects:  92% (954/1036)   \rReceiving objects:  93% (964/1036)   \rReceiving objects:  94% (974/1036)   \rReceiving objects:  95% (985/1036)   \rReceiving objects:  96% (995/1036)   \rReceiving objects:  97% (1005/1036)   \rReceiving objects:  98% (1016/1036)   \rReceiving objects:  99% (1026/1036)   \rReceiving objects: 100% (1036/1036)   \rReceiving objects: 100% (1036/1036), 993.04 KiB | 3.02 MiB/s, done.\n",
            "Resolving deltas:   0% (0/34)   \rResolving deltas:   2% (1/34)   \rResolving deltas:   5% (2/34)   \rResolving deltas:   8% (3/34)   \rResolving deltas:  29% (10/34)   \rResolving deltas:  32% (11/34)   \rResolving deltas:  35% (12/34)   \rResolving deltas:  38% (13/34)   \rResolving deltas:  41% (14/34)   \rResolving deltas:  52% (18/34)   \rResolving deltas:  55% (19/34)   \rResolving deltas:  70% (24/34)   \rResolving deltas:  76% (26/34)   \rResolving deltas:  88% (30/34)   \rResolving deltas:  91% (31/34)   \rResolving deltas:  97% (33/34)   \rResolving deltas: 100% (34/34)   \rResolving deltas: 100% (34/34), done.\n"
          ],
          "name": "stdout"
        }
      ]
    },
    {
      "cell_type": "code",
      "metadata": {
        "id": "Ll6_iJLXfdUW",
        "colab_type": "code",
        "colab": {
          "base_uri": "https://localhost:8080/",
          "height": 85
        },
        "outputId": "bcf8cc43-693b-4676-8fb4-b9d220942fc0"
      },
      "source": [
        "import os\n",
        "import numpy as np\n",
        "from collections import Counter\n",
        "from sklearn.naive_bayes import GaussianNB\n",
        "from sklearn.metrics import accuracy_score\n",
        "\n",
        "#os.chdir(\"\")\n",
        "\n",
        "def make_Dictionary(root_dir):\n",
        "    all_words = []\n",
        "    emails = [os.path.join(root_dir,f) for f in os.listdir(root_dir)]\n",
        "    for mail in emails:\n",
        "        with open(mail) as m:\n",
        "            for line in m:\n",
        "                words = line.split()\n",
        "                all_words += words\n",
        "    dictionary = Counter(all_words)\n",
        "    list_to_remove = dictionary.keys()\n",
        "\n",
        "    for item in list(list_to_remove):\n",
        "        if item.isalpha() == False:\n",
        "            del dictionary[item]\n",
        "        elif len(item) == 1:\n",
        "            del dictionary[item]\n",
        "    dictionary = dictionary.most_common(3000)\n",
        "\n",
        "    return dictionary\n",
        "\n",
        "\n",
        "\n",
        "def extract_features(mail_dir):\n",
        "    files = [os.path.join(mail_dir,fi) for fi in os.listdir(mail_dir)]\n",
        "    features_matrix = np.zeros((len(files),3000))\n",
        "    train_labels = np.zeros(len(files))\n",
        "    count = 0;\n",
        "    docID = 0;\n",
        "    for fil in files:\n",
        "      with open(fil) as fi:\n",
        "        for i,line in enumerate(fi):\n",
        "          if i == 2:\n",
        "            words = line.split()\n",
        "            for word in words:\n",
        "              wordID = 0\n",
        "              for i,d in enumerate(dictionary):\n",
        "                if d[0] == word:\n",
        "                  wordID = i\n",
        "                  features_matrix[docID,wordID] = words.count(word)\n",
        "        train_labels[docID] = 0;\n",
        "        filepathTokens = fil.split('/')\n",
        "        lastToken = filepathTokens[len(filepathTokens) - 1]\n",
        "        if lastToken.startswith(\"spmsg\"):\n",
        "            train_labels[docID] = 1;\n",
        "            count = count + 1\n",
        "        docID = docID + 1\n",
        "    return features_matrix, train_labels\n",
        "\n",
        "\n",
        "TRAIN_DIR = \"/content/machine-learning-101/chapter1/test-mails\"\n",
        "TEST_DIR = \"/content/machine-learning-101/chapter1/train-mails\"\n",
        "#TRAIN_DIR = \"../train-mails\"\n",
        "#TEST_DIR = \"../test-mails\"\n",
        "\n",
        "dictionary = make_Dictionary(TRAIN_DIR)\n",
        "\n",
        "print (\"reading and processing emails from file.\")\n",
        "features_matrix, labels = extract_features(TRAIN_DIR)\n",
        "test_feature_matrix, test_labels = extract_features(TEST_DIR)\n",
        "\n",
        "\n",
        "model = GaussianNB()\n",
        "\n",
        "print (\"Training model.\")\n",
        "#train model\n",
        "model.fit(features_matrix, labels)\n",
        "\n",
        "predicted_labels = model.predict(test_feature_matrix)\n",
        "\n",
        "print (\"FINISHED classifying. accuracy score : \")\n",
        "print (accuracy_score(test_labels, predicted_labels))\n"
      ],
      "execution_count": 8,
      "outputs": [
        {
          "output_type": "stream",
          "text": [
            "reading and processing emails from file.\n",
            "Training model.\n",
            "FINISHED classifying. accuracy score : \n",
            "0.9529914529914529\n"
          ],
          "name": "stdout"
        }
      ]
    }
  ]
}